{
 "cells": [
  {
   "cell_type": "markdown",
   "id": "a97137de",
   "metadata": {},
   "source": [
    "# Tuple\n",
    "\n",
    "### tuple are same as list but having slight difference in it \n",
    "### Tuples are ordered, unchangeable and allow duplicate values in it."
   ]
  },
  {
   "cell_type": "markdown",
   "id": "74428b70",
   "metadata": {},
   "source": [
    "#### Create Tuples"
   ]
  },
  {
   "cell_type": "code",
   "execution_count": 3,
   "id": "0ff345e0",
   "metadata": {},
   "outputs": [
    {
     "name": "stdout",
     "output_type": "stream",
     "text": [
      "('animal', 'birds', 'fruits', 'Flowers')\n"
     ]
    }
   ],
   "source": [
    "my_tuple = (\"animal\" , \"birds\" , \"fruits\" , \"Flowers\")\n",
    "print(my_tuple)"
   ]
  },
  {
   "cell_type": "code",
   "execution_count": 5,
   "id": "ebb17655",
   "metadata": {},
   "outputs": [
    {
     "name": "stdout",
     "output_type": "stream",
     "text": [
      "fruits\n"
     ]
    }
   ],
   "source": [
    "# access tuple elements by index\n",
    "print(my_tuple[2])\n"
   ]
  },
  {
   "cell_type": "code",
   "execution_count": 6,
   "id": "fdfaf509",
   "metadata": {},
   "outputs": [
    {
     "ename": "TypeError",
     "evalue": "'tuple' object does not support item assignment",
     "output_type": "error",
     "traceback": [
      "\u001b[1;31m---------------------------------------------------------------------------\u001b[0m",
      "\u001b[1;31mTypeError\u001b[0m                                 Traceback (most recent call last)",
      "Input \u001b[1;32mIn [6]\u001b[0m, in \u001b[0;36m<cell line: 2>\u001b[1;34m()\u001b[0m\n\u001b[0;32m      1\u001b[0m \u001b[38;5;66;03m# chnage elements of the tuple\u001b[39;00m\n\u001b[1;32m----> 2\u001b[0m my_tuple[\u001b[38;5;241m5\u001b[39m] \u001b[38;5;241m=\u001b[39m \u001b[38;5;124m\"\u001b[39m\u001b[38;5;124mvegetable\u001b[39m\u001b[38;5;124m\"\u001b[39m\n\u001b[0;32m      3\u001b[0m \u001b[38;5;28mprint\u001b[39m(my_tuple)\n",
      "\u001b[1;31mTypeError\u001b[0m: 'tuple' object does not support item assignment"
     ]
    }
   ],
   "source": [
    "# chnage elements of the tuple\n",
    "my_tuple[5] = \"vegetable\"\n",
    "print(my_tuple)"
   ]
  },
  {
   "cell_type": "code",
   "execution_count": 7,
   "id": "5eb4e5ac",
   "metadata": {},
   "outputs": [
    {
     "ename": "AttributeError",
     "evalue": "'tuple' object has no attribute 'insert'",
     "output_type": "error",
     "traceback": [
      "\u001b[1;31m---------------------------------------------------------------------------\u001b[0m",
      "\u001b[1;31mAttributeError\u001b[0m                            Traceback (most recent call last)",
      "Input \u001b[1;32mIn [7]\u001b[0m, in \u001b[0;36m<cell line: 1>\u001b[1;34m()\u001b[0m\n\u001b[1;32m----> 1\u001b[0m \u001b[43mmy_tuple\u001b[49m\u001b[38;5;241;43m.\u001b[39;49m\u001b[43minsert\u001b[49m(\u001b[38;5;241m4\u001b[39m , \u001b[38;5;124m\"\u001b[39m\u001b[38;5;124minsects\u001b[39m\u001b[38;5;124m\"\u001b[39m)\n\u001b[0;32m      2\u001b[0m \u001b[38;5;28mprint\u001b[39m(my_tuple)\n",
      "\u001b[1;31mAttributeError\u001b[0m: 'tuple' object has no attribute 'insert'"
     ]
    }
   ],
   "source": [
    "my_tuple.insert(4 , \"insects\")\n",
    "print(my_tuple)"
   ]
  },
  {
   "cell_type": "markdown",
   "id": "3389082f",
   "metadata": {},
   "source": [
    "### One item Tuple\n",
    "Remember to create one item tuple add commas at last"
   ]
  },
  {
   "cell_type": "code",
   "execution_count": 10,
   "id": "4c580a7e",
   "metadata": {},
   "outputs": [
    {
     "name": "stdout",
     "output_type": "stream",
     "text": [
      "<class 'tuple'>\n",
      "<class 'str'>\n"
     ]
    }
   ],
   "source": [
    "thistuple = (\"apple\",)\n",
    "print(type(thistuple))\n",
    "\n",
    "#NOT a tuple\n",
    "thistuple = (\"apple\")\n",
    "print(type(thistuple))\n"
   ]
  },
  {
   "cell_type": "markdown",
   "id": "c92a8568",
   "metadata": {},
   "source": [
    "### The tuple() Constructor\n",
    "It is also possible to use the tuple() constructor to make a tuple."
   ]
  },
  {
   "cell_type": "code",
   "execution_count": 11,
   "id": "d0d5ae95",
   "metadata": {},
   "outputs": [
    {
     "name": "stdout",
     "output_type": "stream",
     "text": [
      "('apple', 'banana', 'cherry')\n"
     ]
    }
   ],
   "source": [
    "thistuple = tuple((\"apple\", \"banana\", \"cherry\")) # note the double round-brackets\n",
    "print(thistuple)"
   ]
  },
  {
   "cell_type": "markdown",
   "id": "1e66980b",
   "metadata": {},
   "source": [
    "## Bild-in Method in tuple\n",
    "##### index() :- Find in the tuple and returns the index of the given value where it’s available\n",
    "##### count() :- Returns the frequency of occurrence of a specified value"
   ]
  },
  {
   "cell_type": "code",
   "execution_count": 15,
   "id": "3f28ea98",
   "metadata": {},
   "outputs": [
    {
     "name": "stdout",
     "output_type": "stream",
     "text": [
      "2\n",
      "8\n"
     ]
    }
   ],
   "source": [
    "new_tuple = [ 1 , 85 , 4 , 74 , 65, -45 ,8. , 45 , 85]\n",
    "print(new_tuple.index(4))\n",
    "print(new_tuple.index(85 , 4 ))\n"
   ]
  },
  {
   "cell_type": "code",
   "execution_count": 17,
   "id": "747bae35",
   "metadata": {},
   "outputs": [
    {
     "name": "stdout",
     "output_type": "stream",
     "text": [
      "enter the element : 8\n",
      "count the occurance :  1\n"
     ]
    }
   ],
   "source": [
    "\n",
    "# count\n",
    "num = int(input(\"enter the element : \"))\n",
    "print(\"count the occurance : \" , new_tuple.count(num))"
   ]
  }
 ],
 "metadata": {
  "kernelspec": {
   "display_name": "Python 3 (ipykernel)",
   "language": "python",
   "name": "python3"
  },
  "language_info": {
   "codemirror_mode": {
    "name": "ipython",
    "version": 3
   },
   "file_extension": ".py",
   "mimetype": "text/x-python",
   "name": "python",
   "nbconvert_exporter": "python",
   "pygments_lexer": "ipython3",
   "version": "3.9.12"
  }
 },
 "nbformat": 4,
 "nbformat_minor": 5
}
