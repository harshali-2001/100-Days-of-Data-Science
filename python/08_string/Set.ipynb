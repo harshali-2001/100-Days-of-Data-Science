{
 "cells": [
  {
   "cell_type": "markdown",
   "id": "dd80fcaf",
   "metadata": {},
   "source": [
    "# Set\n",
    "\n",
    "### A set in Python is an unordered collection of unique elements. It's similar to lists or dictionaries, but with a few key differences\n",
    "#### set is denoted using '{ }'"
   ]
  },
  {
   "cell_type": "code",
   "execution_count": 2,
   "id": "008720ea",
   "metadata": {},
   "outputs": [
    {
     "name": "stdout",
     "output_type": "stream",
     "text": [
      "{1, 3, 4, 5, 8}\n"
     ]
    }
   ],
   "source": [
    "# creating a set\n",
    "myset = {1 , 4 , 5 , 8 , 1 , 3, 4}\n",
    "print(myset)"
   ]
  },
  {
   "cell_type": "code",
   "execution_count": 3,
   "id": "113d3831",
   "metadata": {},
   "outputs": [
    {
     "name": "stdout",
     "output_type": "stream",
     "text": [
      "{1, 3, 4, 5, 'games', 8}\n"
     ]
    }
   ],
   "source": [
    "# adding elements in a set\n",
    "myset.add(\"games\")\n",
    "print(myset)"
   ]
  },
  {
   "cell_type": "code",
   "execution_count": 4,
   "id": "81cab1c4",
   "metadata": {},
   "outputs": [
    {
     "name": "stdout",
     "output_type": "stream",
     "text": [
      "{1, 3, 4, 5, 'games'}\n"
     ]
    }
   ],
   "source": [
    "# Removing elements from the set\n",
    "myset.remove(8)\n",
    "print(myset)"
   ]
  },
  {
   "cell_type": "markdown",
   "id": "8e09fccd",
   "metadata": {},
   "source": [
    "### Union and Intersection:"
   ]
  },
  {
   "cell_type": "code",
   "execution_count": 7,
   "id": "1702cb8c",
   "metadata": {},
   "outputs": [
    {
     "name": "stdout",
     "output_type": "stream",
     "text": [
      "union set :  {1, 2, 3, 5, 6, 7, 8, 9}\n",
      "Intersection of two set is :  {1, 9}\n"
     ]
    }
   ],
   "source": [
    "set1 = {1 , 5 , 8 , 9}\n",
    "set2 = {1, 2, 3, 6 ,7, 9}\n",
    "\n",
    "# union of set\n",
    "union_set = set1.union(set2)\n",
    "print(\"union set : \" , union_set)\n",
    "\n",
    "# intersection of two sets\n",
    "intersection_set = set2.intersection(set1)\n",
    "print(\"Intersection of two set is : \" , intersection_set)"
   ]
  },
  {
   "cell_type": "code",
   "execution_count": null,
   "id": "c6e215cc",
   "metadata": {},
   "outputs": [],
   "source": []
  },
  {
   "cell_type": "code",
   "execution_count": null,
   "id": "f69296f6",
   "metadata": {},
   "outputs": [],
   "source": []
  }
 ],
 "metadata": {
  "kernelspec": {
   "display_name": "Python 3 (ipykernel)",
   "language": "python",
   "name": "python3"
  },
  "language_info": {
   "codemirror_mode": {
    "name": "ipython",
    "version": 3
   },
   "file_extension": ".py",
   "mimetype": "text/x-python",
   "name": "python",
   "nbconvert_exporter": "python",
   "pygments_lexer": "ipython3",
   "version": "3.9.12"
  }
 },
 "nbformat": 4,
 "nbformat_minor": 5
}
