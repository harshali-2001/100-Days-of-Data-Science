{
 "cells": [
  {
   "cell_type": "markdown",
   "id": "9b0b0dc4",
   "metadata": {},
   "source": [
    "# Dictionary"
   ]
  },
  {
   "cell_type": "markdown",
   "id": "0f5defe7",
   "metadata": {},
   "source": [
    "Dictionaries are used to store data values in key:value pairs. <br>\n",
    "A dictionary ia a collection which is ordered, changeable and do not allow duplicates <br>\n",
    "\n",
    "\n",
    "Dictionaries are written with curly brackets, and have keys and values:\n"
   ]
  },
  {
   "cell_type": "code",
   "execution_count": 2,
   "id": "f545d087",
   "metadata": {},
   "outputs": [
    {
     "name": "stdout",
     "output_type": "stream",
     "text": [
      "{'color': 'red', 'brand': 'Audi', 'year': 1965}\n"
     ]
    }
   ],
   "source": [
    "myDict = {\n",
    "    \"color\" : 'red',\n",
    "    \"brand\" : 'Audi',\n",
    "    'year' : 1965\n",
    "}\n",
    "\n",
    "print(myDict)"
   ]
  },
  {
   "cell_type": "markdown",
   "id": "b28e4fbe",
   "metadata": {},
   "source": [
    "Dictionary items are presented in key:value pairs, and can be referred to by using the key name."
   ]
  },
  {
   "cell_type": "code",
   "execution_count": 3,
   "id": "bd566306",
   "metadata": {},
   "outputs": [
    {
     "name": "stdout",
     "output_type": "stream",
     "text": [
      "1965\n"
     ]
    }
   ],
   "source": [
    "print(myDict[\"year\"])"
   ]
  },
  {
   "cell_type": "markdown",
   "id": "7f430e3a",
   "metadata": {},
   "source": [
    "To determine how many items a dictionary has, use the <b>len() </b> function:"
   ]
  },
  {
   "cell_type": "code",
   "execution_count": 4,
   "id": "b7a7e2f9",
   "metadata": {},
   "outputs": [
    {
     "name": "stdout",
     "output_type": "stream",
     "text": [
      "3\n"
     ]
    }
   ],
   "source": [
    "print(len(myDict))"
   ]
  },
  {
   "cell_type": "markdown",
   "id": "9186b0e8",
   "metadata": {},
   "source": [
    "### The Dict() Constructor\n",
    "It is also possible to use the dict() constructor to make a dictionary."
   ]
  },
  {
   "cell_type": "code",
   "execution_count": 5,
   "id": "59ed147f",
   "metadata": {},
   "outputs": [
    {
     "name": "stdout",
     "output_type": "stream",
     "text": [
      "{'name': 'John', 'age': 36, 'country': 'Norway'}\n"
     ]
    }
   ],
   "source": [
    "thisdict = dict(name = \"John\", age = 36, country = \"Norway\")\n",
    "print(thisdict)"
   ]
  },
  {
   "cell_type": "markdown",
   "id": "c0c007cd",
   "metadata": {},
   "source": [
    "## Accessing Items"
   ]
  },
  {
   "cell_type": "code",
   "execution_count": 7,
   "id": "21315914",
   "metadata": {},
   "outputs": [
    {
     "name": "stdout",
     "output_type": "stream",
     "text": [
      "78\n"
     ]
    }
   ],
   "source": [
    "# Creating a dictionary\n",
    "student_grades = {\n",
    "    'John': 85,\n",
    "    'Jane': 92,\n",
    "    'Bob': 78,\n",
    "    'Alice': 95\n",
    "}\n",
    "\n",
    "x = student_grades['Bob']\n",
    "print(x)"
   ]
  },
  {
   "cell_type": "code",
   "execution_count": 9,
   "id": "fec21527",
   "metadata": {},
   "outputs": [
    {
     "name": "stdout",
     "output_type": "stream",
     "text": [
      "85\n"
     ]
    }
   ],
   "source": [
    "# there is also a method called get() that will give the same result:\n",
    "\n",
    "x = student_grades.get('John')\n",
    "print(x)"
   ]
  },
  {
   "cell_type": "markdown",
   "id": "a07f51f3",
   "metadata": {},
   "source": [
    "#### Get Keys()\n",
    "\n",
    "the keys() method will return a list of all the keys in the dictionary"
   ]
  },
  {
   "cell_type": "code",
   "execution_count": 12,
   "id": "17eef067",
   "metadata": {},
   "outputs": [
    {
     "name": "stdout",
     "output_type": "stream",
     "text": [
      "dict_keys(['John', 'Jane', 'Bob', 'Alice'])\n"
     ]
    }
   ],
   "source": [
    "key = student_grades.keys()\n",
    "print(key)"
   ]
  },
  {
   "cell_type": "code",
   "execution_count": 15,
   "id": "cb343afc",
   "metadata": {
    "scrolled": true
   },
   "outputs": [
    {
     "name": "stdout",
     "output_type": "stream",
     "text": [
      "dict_keys(['John', 'Jane', 'Bob', 'Alice', 'harshali', 'Harshali'])\n"
     ]
    }
   ],
   "source": [
    "student_grades[\"Harshali\"] = 100\n",
    "    \n",
    "print(student_grades.keys())"
   ]
  },
  {
   "cell_type": "markdown",
   "id": "2deb54c9",
   "metadata": {},
   "source": [
    "#### Get Values()\n",
    "\n",
    "the values() method will return a list of all the values in the dictionary"
   ]
  },
  {
   "cell_type": "code",
   "execution_count": 16,
   "id": "2623c65f",
   "metadata": {},
   "outputs": [
    {
     "data": {
      "text/plain": [
       "dict_values([85, 92, 78, 95, 100, 100])"
      ]
     },
     "execution_count": 16,
     "metadata": {},
     "output_type": "execute_result"
    }
   ],
   "source": [
    "student_grades.values()"
   ]
  },
  {
   "cell_type": "code",
   "execution_count": 17,
   "id": "64bbf709",
   "metadata": {},
   "outputs": [
    {
     "name": "stdout",
     "output_type": "stream",
     "text": [
      "{'John': 85, 'Jane': 92, 'Bob': 78, 'Alice': 95, 'Harshali': 100}\n"
     ]
    }
   ],
   "source": [
    "del student_grades['harshali']\n",
    "\n",
    "print(student_grades)"
   ]
  },
  {
   "cell_type": "markdown",
   "id": "bc9c6f5f",
   "metadata": {},
   "source": [
    "### Update Dictionary\n",
    "\n",
    "the update() method will update the dictionary with the items from a given argument. If the item does not exits, the item will be added"
   ]
  },
  {
   "cell_type": "code",
   "execution_count": 18,
   "id": "1c2a098a",
   "metadata": {},
   "outputs": [
    {
     "name": "stdout",
     "output_type": "stream",
     "text": [
      "{'John': 85, 'Jane': 92, 'Bob': 78, 'Alice': 95, 'Harshali': 100, 'Meth': 45}\n"
     ]
    }
   ],
   "source": [
    "student_grades.update({\"Meth\" : 45})\n",
    "print(student_grades)"
   ]
  },
  {
   "cell_type": "markdown",
   "id": "01c5a465",
   "metadata": {},
   "source": [
    "### Remove Dictionary Items\n",
    "There are several methods to remove items from a dictionary: <br>\n",
    "<b>1] pop() <br>\n",
    "<b>2] popitem() <br>\n",
    "<b>3] del <br>\n"
   ]
  },
  {
   "cell_type": "code",
   "execution_count": 19,
   "id": "254eb757",
   "metadata": {},
   "outputs": [
    {
     "name": "stdout",
     "output_type": "stream",
     "text": [
      "{'brand': 'Ford', 'year': 1964}\n"
     ]
    }
   ],
   "source": [
    "thisdict = {\n",
    "  \"brand\": \"Ford\",\n",
    "  \"model\": \"Mustang\",\n",
    "  \"year\": 1964\n",
    "}\n",
    "thisdict.pop(\"model\")\n",
    "print(thisdict)"
   ]
  },
  {
   "cell_type": "code",
   "execution_count": 20,
   "id": "029b91e8",
   "metadata": {},
   "outputs": [
    {
     "name": "stdout",
     "output_type": "stream",
     "text": [
      "{'brand': 'Ford', 'model': 'Mustang'}\n"
     ]
    }
   ],
   "source": [
    "# The popitem() method removes the last inserted item\n",
    "thisdict = {\n",
    "  \"brand\": \"Ford\",\n",
    "  \"model\": \"Mustang\",\n",
    "  \"year\": 1964\n",
    "}\n",
    "thisdict.popitem()\n",
    "print(thisdict)"
   ]
  },
  {
   "cell_type": "markdown",
   "id": "aa11734d",
   "metadata": {},
   "source": [
    "The clear() method empties the dictionary:"
   ]
  },
  {
   "cell_type": "code",
   "execution_count": 21,
   "id": "008626c3",
   "metadata": {},
   "outputs": [
    {
     "name": "stdout",
     "output_type": "stream",
     "text": [
      "{}\n"
     ]
    }
   ],
   "source": [
    "thisdict = {\n",
    "  \"brand\": \"Ford\",\n",
    "  \"model\": \"Mustang\",\n",
    "  \"year\": 1964\n",
    "}\n",
    "thisdict.clear()\n",
    "print(thisdict)"
   ]
  },
  {
   "cell_type": "code",
   "execution_count": null,
   "id": "cdd6fa84",
   "metadata": {},
   "outputs": [],
   "source": []
  },
  {
   "cell_type": "code",
   "execution_count": null,
   "id": "b7500acf",
   "metadata": {},
   "outputs": [],
   "source": []
  },
  {
   "cell_type": "code",
   "execution_count": null,
   "id": "19e23309",
   "metadata": {},
   "outputs": [],
   "source": []
  },
  {
   "cell_type": "code",
   "execution_count": null,
   "id": "59258a1d",
   "metadata": {},
   "outputs": [],
   "source": []
  },
  {
   "cell_type": "code",
   "execution_count": null,
   "id": "f56e623e",
   "metadata": {},
   "outputs": [],
   "source": []
  },
  {
   "cell_type": "code",
   "execution_count": null,
   "id": "9a53b5d7",
   "metadata": {},
   "outputs": [],
   "source": []
  }
 ],
 "metadata": {
  "kernelspec": {
   "display_name": "Python 3 (ipykernel)",
   "language": "python",
   "name": "python3"
  },
  "language_info": {
   "codemirror_mode": {
    "name": "ipython",
    "version": 3
   },
   "file_extension": ".py",
   "mimetype": "text/x-python",
   "name": "python",
   "nbconvert_exporter": "python",
   "pygments_lexer": "ipython3",
   "version": "3.9.12"
  }
 },
 "nbformat": 4,
 "nbformat_minor": 5
}
