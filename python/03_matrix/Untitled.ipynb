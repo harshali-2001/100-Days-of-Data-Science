{
 "cells": [
  {
   "cell_type": "markdown",
   "id": "5d905f47",
   "metadata": {},
   "source": [
    "# Matrix in python"
   ]
  },
  {
   "cell_type": "markdown",
   "id": "c8e25aad",
   "metadata": {},
   "source": [
    "A Matrix in python is a reactangular numpy array. This array has to be two dimentional.\n",
    "</br> It contain data stored in the array's row and columns"
   ]
  },
  {
   "cell_type": "markdown",
   "id": "a6acb40e",
   "metadata": {},
   "source": [
    "### What is the matrix?\n",
    "A matrix is a collection of numbers arranged in a rectangular array in rows and columns. In the fields of engineering, physics, statistics, and graphics, matrices are widely used to express picture rotations and other types of transformations.\n",
    "<br>The matrix is referred to as an m by n matrix, denoted by the symbol “m x n” if there are m rows and n columns."
   ]
  },
  {
   "cell_type": "markdown",
   "id": "3a1cb90f",
   "metadata": {},
   "source": [
    "#### Creating matrix in python"
   ]
  },
  {
   "cell_type": "code",
   "execution_count": 2,
   "id": "34a3f7da",
   "metadata": {},
   "outputs": [
    {
     "name": "stdout",
     "output_type": "stream",
     "text": [
      "Enter the numbers of row : 3\n",
      "Enter the number of columns : 3\n",
      "4\n",
      "5\n",
      "6\n",
      "1\n",
      "2\n",
      "3\n",
      "8\n",
      "9\n",
      "5\n",
      "[[4, 5, 6], [1, 2, 3], [8, 9, 5]]\n"
     ]
    }
   ],
   "source": [
    "row  = int(input(\"Enter the numbers of row : \"))\n",
    "col = int(input(\"Enter the number of columns : \"))\n",
    "\n",
    "matrix = []\n",
    "\n",
    "# for user input\n",
    "for r in range(row):\n",
    "    a=[]\n",
    "    for c in range(col):\n",
    "        a.append(int(input()))\n",
    "    matrix.append(a)\n",
    "\n",
    "print(matrix)"
   ]
  },
  {
   "cell_type": "code",
   "execution_count": 5,
   "id": "5a049401",
   "metadata": {},
   "outputs": [
    {
     "name": "stdout",
     "output_type": "stream",
     "text": [
      "4 5 6 \n",
      "1 2 3 \n",
      "8 9 5 \n"
     ]
    }
   ],
   "source": [
    "# For printing the matrix\n",
    "for r in range(row):\n",
    "    for c in range(col):\n",
    "        print(matrix[r][c], end=\" \")\n",
    "    print()"
   ]
  },
  {
   "cell_type": "markdown",
   "id": "12f43613",
   "metadata": {},
   "source": [
    "### list Comprehension for creating matrix"
   ]
  },
  {
   "cell_type": "code",
   "execution_count": 6,
   "id": "06727b6c",
   "metadata": {},
   "outputs": [
    {
     "name": "stdout",
     "output_type": "stream",
     "text": [
      "[[0, 1, 2], [0, 1, 2], [0, 1, 2]]\n"
     ]
    }
   ],
   "source": [
    "matrix = [[column for column in range(3)] for row in range(3)]\n",
    " \n",
    "print(matrix)"
   ]
  },
  {
   "cell_type": "code",
   "execution_count": 7,
   "id": "54fcc98c",
   "metadata": {},
   "outputs": [
    {
     "name": "stdout",
     "output_type": "stream",
     "text": [
      "Enter the numbers of row : 5\n",
      "Enter the number of columns : 5\n",
      "[[0, 1, 2, 3, 4], [0, 1, 2, 3, 4], [0, 1, 2, 3, 4], [0, 1, 2, 3, 4], [0, 1, 2, 3, 4]]\n"
     ]
    }
   ],
   "source": [
    "row  = int(input(\"Enter the numbers of row : \"))\n",
    "col = int(input(\"Enter the number of columns : \"))\n",
    "\n",
    "matrix = [[c for c in range(col)]for r in range(row)]\n",
    "print(matrix)"
   ]
  },
  {
   "cell_type": "code",
   "execution_count": null,
   "id": "b73b9f25",
   "metadata": {},
   "outputs": [],
   "source": []
  },
  {
   "cell_type": "code",
   "execution_count": 8,
   "id": "f595edf5",
   "metadata": {},
   "outputs": [
    {
     "name": "stdout",
     "output_type": "stream",
     "text": [
      "Enter the number of rows: 2\n",
      "Enter the number of columns: 2\n",
      "Enter element for row 1, column 1: 3\n",
      "Enter element for row 1, column 2: 4\n",
      "Enter element for row 2, column 1: 5\n",
      "Enter element for row 2, column 2: 5\n",
      "[3, 4]\n",
      "[5, 5]\n"
     ]
    }
   ],
   "source": [
    "# the above solution is using chatgpt\n",
    "\n",
    "# Ask the user for the dimensions of the matrix  \n",
    "rows = int(input(\"Enter the number of rows: \"))\n",
    "cols = int(input(\"Enter the number of columns: \"))\n",
    "\n",
    "# Initialize an empty matrix\n",
    "matrix = []\n",
    "\n",
    "# Use list comprehension to populate the matrix\n",
    "for i in range(rows):\n",
    "    row = [int(input(f\"Enter element for row {i+1}, column {j+1}: \")) for j in range(cols)]\n",
    "    matrix.append(row)\n",
    "\n",
    "# Print the resulting matrix\n",
    "for row in matrix:\n",
    "    print(row)\n"
   ]
  },
  {
   "cell_type": "markdown",
   "id": "f294132f",
   "metadata": {},
   "source": [
    "### Assigning value in a matrix"
   ]
  },
  {
   "cell_type": "code",
   "execution_count": 12,
   "id": "ef0fc7b1",
   "metadata": {},
   "outputs": [
    {
     "name": "stdout",
     "output_type": "stream",
     "text": [
      "[[1, 2, 3], [4, 5, 25], [7, 8, 9]]\n",
      "negative indexing [[1, 2, 3], [4, 5, 36], [7, 8, 9]]\n"
     ]
    }
   ],
   "source": [
    "x = [[1, 2, 3], [4, 5, 6], [7, 8, 9]]\n",
    " \n",
    "# assign value to col2 row 1\n",
    "x[1][2] = 25\n",
    "print(x)\n",
    "\n",
    "#  Assign a value to an individual cell using negative indexing in Matrix\n",
    "x[-2][-1] = 36\n",
    "print(\"negative indexing\" , x)"
   ]
  },
  {
   "cell_type": "markdown",
   "id": "c643e842",
   "metadata": {},
   "source": [
    "### Mathematical Operation with matrix in python"
   ]
  },
  {
   "cell_type": "markdown",
   "id": "4aaae6c3",
   "metadata": {},
   "source": [
    "the basic mathematical operation like addtion, substraction, division, multiplication can be perform on two matrix using python "
   ]
  },
  {
   "cell_type": "code",
   "execution_count": 20,
   "id": "5c069daa",
   "metadata": {},
   "outputs": [
    {
     "name": "stdout",
     "output_type": "stream",
     "text": [
      "[-6, -6, -3]\n",
      "[-5, -3, 2]\n",
      "[4, 3, 7]\n"
     ]
    }
   ],
   "source": [
    "# Program to add two matrices using nested loop\n",
    "X = [[3, 2 , 4],[1 , 2, 6], [7,5, 8]]\n",
    "Y = [[9, 8, 7], [6, 5, 4], [3, 2, 1]]\n",
    "\n",
    " \n",
    "# iterate through rows\n",
    "for row in range(len(X)):\n",
    " \n",
    "    # iterate through columns\n",
    "    for column in range(len(X[0])):\n",
    "        result[row][column] = X[row][column]- Y[row][column]\n",
    " \n",
    "for r in result:\n",
    "    print(r)"
   ]
  },
  {
   "cell_type": "code",
   "execution_count": null,
   "id": "d91f42e2",
   "metadata": {},
   "outputs": [],
   "source": []
  }
 ],
 "metadata": {
  "kernelspec": {
   "display_name": "Python 3 (ipykernel)",
   "language": "python",
   "name": "python3"
  },
  "language_info": {
   "codemirror_mode": {
    "name": "ipython",
    "version": 3
   },
   "file_extension": ".py",
   "mimetype": "text/x-python",
   "name": "python",
   "nbconvert_exporter": "python",
   "pygments_lexer": "ipython3",
   "version": "3.9.12"
  }
 },
 "nbformat": 4,
 "nbformat_minor": 5
}
