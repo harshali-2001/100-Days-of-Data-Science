{
 "cells": [
  {
   "cell_type": "markdown",
   "id": "97a513ae",
   "metadata": {},
   "source": [
    "## File Handling in Python"
   ]
  },
  {
   "cell_type": "markdown",
   "id": "7c68f0d1",
   "metadata": {},
   "source": [
    "File Handling is an important part of any web application\n",
    "<br>\n",
    "Python has several function for creating, reading, updating and deleting files"
   ]
  },
  {
   "cell_type": "markdown",
   "id": "f8fcf45c",
   "metadata": {},
   "source": [
    "File handling in Python is a crucial aspect of working with data and information stored on your computer's file system. It allows you to read from and write to files, which is essential for tasks like data processing, text manipulation, and more."
   ]
  },
  {
   "cell_type": "markdown",
   "id": "d86a4902",
   "metadata": {},
   "source": [
    "#### Advantages:\n",
    "<b>Persitent Data Storage: </b></br>\n",
    "<b>Data Retrieval: </b>Files allow you to store large amounts of data that may not fit in memory, and retrieve it when needed. </br>\n",
    "<b>Data Sharing:</b> Files are a common way to share data between different programs or even different users and systems.</br>\n",
    "<b>Data Organization:</b> Files help in organizing data into a structured format</br>\n",
    "<b>Data Backup :</b> Files can be easily backed up and restored, providing a safety net for important information.</br>"
   ]
  },
  {
   "cell_type": "markdown",
   "id": "ba66c97e",
   "metadata": {},
   "source": [
    "### Opening a File\n",
    "\n",
    "To open a file, <b>Open()</b> fuction is used. It takes two arguments: The file path and the mode (read, write , etc)"
   ]
  },
  {
   "cell_type": "code",
   "execution_count": 1,
   "id": "2d14b0df",
   "metadata": {},
   "outputs": [],
   "source": [
    "#open a file in read mode\n",
    "\n",
    "file = open('example.txt' , 'r')\n",
    "\n",
    "# # Open a file in write mode\n",
    "\n",
    "# file = open('example.txt' , 'w')"
   ]
  },
  {
   "cell_type": "markdown",
   "id": "a1473aea",
   "metadata": {},
   "source": [
    "#### Modes\n",
    " \n",
    "'r' : read. Opens a file for reading <br>\n",
    "'w' : Write. Open a file for writing. If the file already exists, it will be cleared <br>\n",
    "'a' : Append. Open a file for appending a new content at the end of the file<br>\n",
    "'b' : Binary. Used a combination with other modes<br>\n",
    "'x' : Exclusion. Creates a new file but raises an error if it already exits.<br>"
   ]
  },
  {
   "cell_type": "markdown",
   "id": "9554aa19",
   "metadata": {},
   "source": [
    "### Closing a file\n",
    "\n",
    "After you're done with a file, it's essential to close it to free up system resources."
   ]
  },
  {
   "cell_type": "code",
   "execution_count": 2,
   "id": "6291ad07",
   "metadata": {},
   "outputs": [],
   "source": [
    "# close a file\n",
    "file.close()"
   ]
  },
  {
   "cell_type": "markdown",
   "id": "e6360019",
   "metadata": {},
   "source": [
    "### Reading from a file\n",
    "\n",
    "read the contents of a file using various methods. One common way is using read() which reads the entire file as a string."
   ]
  },
  {
   "cell_type": "code",
   "execution_count": 3,
   "id": "a3151a5d",
   "metadata": {},
   "outputs": [
    {
     "name": "stdout",
     "output_type": "stream",
     "text": [
      "Disadvantages:\n",
      "Potential for Data Corruption: If a program writing to a file encounters an error or is not properly designed, it can lead to data corruption or loss.\n",
      "\n",
      "Slower Access: Reading and writing to files can be slower compared to operations performed solely in memory, like variables and data structures.\n",
      "\n",
      "Limited Structured Data Storage: While files are versatile, they may not be the best choice for highly structured data, where a database system could be more efficient.\n",
      "\n",
      "Security Concerns: If files contain sensitive information, they need to be properly secured to prevent unauthorized access.\n",
      "\n",
      "File Fragmentation: Over time, as files are created, modified, and deleted, they can become fragmented, which can affect performance.\n",
      "\n",
      "Concurrency Issues: When multiple processes or threads attempt to access the same file simultaneously, it can lead to conflicts and data integrity issues.\n",
      "\n",
      "\n"
     ]
    }
   ],
   "source": [
    "file = open('example.txt')\n",
    "content = file.read()\n",
    "print(content)"
   ]
  },
  {
   "cell_type": "code",
   "execution_count": 4,
   "id": "67ff77e1",
   "metadata": {},
   "outputs": [
    {
     "name": "stdout",
     "output_type": "stream",
     "text": [
      "Disadvantage\n"
     ]
    }
   ],
   "source": [
    "# python code to illustrate read() mode character wise\n",
    "\n",
    "file = open('example.txt' , 'r')\n",
    "print(file.read(12))"
   ]
  },
  {
   "cell_type": "code",
   "execution_count": 12,
   "id": "dba874aa",
   "metadata": {},
   "outputs": [],
   "source": [
    "# can also read line by line using readline()\n",
    "\n",
    "line = file.readline()\n",
    "print(line)\n",
    "\n",
    "file.close()"
   ]
  },
  {
   "cell_type": "markdown",
   "id": "b940914e",
   "metadata": {},
   "source": [
    "### writing a file"
   ]
  },
  {
   "cell_type": "code",
   "execution_count": 19,
   "id": "85d9e64b",
   "metadata": {},
   "outputs": [
    {
     "data": {
      "text/plain": [
       "167"
      ]
     },
     "execution_count": 19,
     "metadata": {},
     "output_type": "execute_result"
    }
   ],
   "source": [
    "f = open(\"example.txt\" , 'w')\n",
    "f.write(\"Disadvantages: 1]Potential for Data Corruption: If a program writing to a file encounters an error or is not properly designed, it can lead to data corruption or loss.\")"
   ]
  },
  {
   "cell_type": "code",
   "execution_count": 20,
   "id": "0270cc10",
   "metadata": {},
   "outputs": [],
   "source": [
    "### Appending to a file\n",
    "file = open('example.txt', 'a')\n",
    "file.write(\"This is appended content.\")\n",
    "file.close()"
   ]
  },
  {
   "cell_type": "markdown",
   "id": "c7401854",
   "metadata": {},
   "source": [
    "### With Statement'\n",
    "It automatically takes care of opening and closing the file, even if an error occurs."
   ]
  },
  {
   "cell_type": "code",
   "execution_count": 21,
   "id": "87d7a843",
   "metadata": {},
   "outputs": [
    {
     "name": "stdout",
     "output_type": "stream",
     "text": [
      "this is a new line.This is appended content.\n"
     ]
    }
   ],
   "source": [
    "with open('example.txt', 'r') as file:\n",
    "    content = file.read()\n",
    "    print(content)"
   ]
  },
  {
   "cell_type": "markdown",
   "id": "e7e7e458",
   "metadata": {},
   "source": [
    "### Handling Errors\n",
    "Always be prepared for potential errors when working with files. For instance, a file might not exist or might not have the permissions you expect."
   ]
  },
  {
   "cell_type": "code",
   "execution_count": 23,
   "id": "b390c814",
   "metadata": {},
   "outputs": [
    {
     "name": "stdout",
     "output_type": "stream",
     "text": [
      "The file does not exist.\n"
     ]
    }
   ],
   "source": [
    "try:\n",
    "    with open('nonexistent.txt', 'r') as file:\n",
    "        content = file.read()\n",
    "except FileNotFoundError:\n",
    "    print(\"The file does not exist.\")"
   ]
  }
 ],
 "metadata": {
  "kernelspec": {
   "display_name": "Python 3 (ipykernel)",
   "language": "python",
   "name": "python3"
  },
  "language_info": {
   "codemirror_mode": {
    "name": "ipython",
    "version": 3
   },
   "file_extension": ".py",
   "mimetype": "text/x-python",
   "name": "python",
   "nbconvert_exporter": "python",
   "pygments_lexer": "ipython3",
   "version": "3.9.12"
  }
 },
 "nbformat": 4,
 "nbformat_minor": 5
}
