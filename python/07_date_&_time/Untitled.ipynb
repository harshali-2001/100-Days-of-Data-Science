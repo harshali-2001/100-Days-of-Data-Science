{
 "cells": [
  {
   "cell_type": "markdown",
   "id": "3e1bad2b",
   "metadata": {},
   "source": [
    "### Date and time"
   ]
  },
  {
   "cell_type": "code",
   "execution_count": null,
   "id": "4ac34aa9",
   "metadata": {},
   "outputs": [],
   "source": []
  },
  {
   "cell_type": "markdown",
   "id": "4bc9e3a0",
   "metadata": {},
   "source": [
    "A date in python is not a data type of its own, but we can import a modules named <b>datatime </b> to work with date and time"
   ]
  },
  {
   "cell_type": "code",
   "execution_count": 1,
   "id": "4f9e2e79",
   "metadata": {},
   "outputs": [],
   "source": [
    "import datetime"
   ]
  },
  {
   "cell_type": "markdown",
   "id": "12644fcb",
   "metadata": {},
   "source": [
    "using datetime module we will display the current date"
   ]
  },
  {
   "cell_type": "code",
   "execution_count": 3,
   "id": "77dd48eb",
   "metadata": {},
   "outputs": [
    {
     "name": "stdout",
     "output_type": "stream",
     "text": [
      "2023-10-26 03:46:03.848634\n"
     ]
    }
   ],
   "source": [
    "time = datetime.datetime.now()\n",
    "print(time)"
   ]
  },
  {
   "cell_type": "code",
   "execution_count": 9,
   "id": "9adcf041",
   "metadata": {},
   "outputs": [
    {
     "name": "stdout",
     "output_type": "stream",
     "text": [
      "Get year -> 2023\n",
      "Get month -> 10\n",
      "Get day -> 26\n",
      "Thursday\n"
     ]
    }
   ],
   "source": [
    "print(\"Get year ->\" , time.year)\n",
    "print(\"Get month ->\" , time.month)\n",
    "print(\"Get day ->\" , time.day)\n",
    "\n",
    "print(time.strftime(\"%A\"))"
   ]
  },
  {
   "cell_type": "code",
   "execution_count": null,
   "id": "6d20ece3",
   "metadata": {},
   "outputs": [],
   "source": []
  },
  {
   "cell_type": "code",
   "execution_count": 13,
   "id": "cccbe275",
   "metadata": {},
   "outputs": [
    {
     "name": "stdout",
     "output_type": "stream",
     "text": [
      "1964\n"
     ]
    }
   ],
   "source": [
    "thisdict = {\n",
    "  \"brand\": \"Ford\",\n",
    "  \"model\": \"Mustang\",\n",
    "  \"year\": 1964\n",
    "}\n",
    "thisdict[\"brand\"] = \"Audi\"\n",
    "\n",
    "print(thisdict.get(\"year\"))"
   ]
  }
 ],
 "metadata": {
  "kernelspec": {
   "display_name": "Python 3 (ipykernel)",
   "language": "python",
   "name": "python3"
  },
  "language_info": {
   "codemirror_mode": {
    "name": "ipython",
    "version": 3
   },
   "file_extension": ".py",
   "mimetype": "text/x-python",
   "name": "python",
   "nbconvert_exporter": "python",
   "pygments_lexer": "ipython3",
   "version": "3.9.12"
  }
 },
 "nbformat": 4,
 "nbformat_minor": 5
}
