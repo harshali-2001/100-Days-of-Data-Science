{
 "cells": [
  {
   "cell_type": "markdown",
   "id": "3134c5fa",
   "metadata": {},
   "source": [
    "# List\n",
    "\n",
    "#### Create a List\n",
    "\n",
    "##### List can contain all the data-types"
   ]
  },
  {
   "cell_type": "code",
   "execution_count": 1,
   "id": "3918e1ba",
   "metadata": {},
   "outputs": [
    {
     "name": "stdout",
     "output_type": "stream",
     "text": [
      "[]\n"
     ]
    }
   ],
   "source": [
    "mylist = []\n",
    "print(mylist)"
   ]
  },
  {
   "cell_type": "code",
   "execution_count": 2,
   "id": "49a08e93",
   "metadata": {},
   "outputs": [
    {
     "name": "stdout",
     "output_type": "stream",
     "text": [
      "['harshali ', 'pratik ', 45, 484.5]\n"
     ]
    }
   ],
   "source": [
    "mylist = [\"harshali \" , \"pratik \" , 45 , 484.5]\n",
    "print(mylist)"
   ]
  },
  {
   "cell_type": "code",
   "execution_count": 3,
   "id": "177cf48d",
   "metadata": {},
   "outputs": [
    {
     "name": "stdout",
     "output_type": "stream",
     "text": [
      "[0, 0, 0, 0, 0]\n"
     ]
    }
   ],
   "source": [
    "# how to create a list of lenght 5 containing all zeros or ones\n",
    "zero_list = [0]*5\n",
    "print(zero_list)\n"
   ]
  },
  {
   "cell_type": "code",
   "execution_count": 4,
   "id": "a1ad0785",
   "metadata": {},
   "outputs": [
    {
     "name": "stdout",
     "output_type": "stream",
     "text": [
      "['Minu', 'Minu', 'Minu', 'Minu', 'Minu', 'Minu', 'Minu', 'Minu', 'Minu', 'Minu']\n"
     ]
    }
   ],
   "source": [
    "# list of name \n",
    "same_name = [\"Minu\"] * 10\n",
    "print(same_name)"
   ]
  },
  {
   "cell_type": "markdown",
   "id": "bffaa536",
   "metadata": {},
   "source": [
    "### list Can contain another list in it called as nested list\n"
   ]
  },
  {
   "cell_type": "code",
   "execution_count": 5,
   "id": "6e55b2d0",
   "metadata": {},
   "outputs": [
    {
     "name": "stdout",
     "output_type": "stream",
     "text": [
      "[[1, 2, 5, 2], [45, 85.2, 'Dog']]\n"
     ]
    }
   ],
   "source": [
    "nested_list = [[1,2,5,2,] , [45 ,85.2 , \"Dog\"]]\n",
    "print(nested_list)"
   ]
  },
  {
   "cell_type": "markdown",
   "id": "241e62cb",
   "metadata": {},
   "source": [
    "#### list are ordered i.e is every elements in the object have index value "
   ]
  },
  {
   "cell_type": "code",
   "execution_count": 6,
   "id": "047aebc6",
   "metadata": {},
   "outputs": [
    {
     "name": "stdout",
     "output_type": "stream",
     "text": [
      "1\n"
     ]
    }
   ],
   "source": [
    "orderList = [1 , 45 , 85 , 74 , 66 , 28]\n",
    "# index 0 pointed to the first element of the list\n",
    "a = orderList[0]\n",
    "print(a)"
   ]
  },
  {
   "cell_type": "code",
   "execution_count": 7,
   "id": "f6edc436",
   "metadata": {},
   "outputs": [
    {
     "name": "stdout",
     "output_type": "stream",
     "text": [
      "28\n"
     ]
    }
   ],
   "source": [
    "print(orderList[5])"
   ]
  },
  {
   "cell_type": "code",
   "execution_count": 11,
   "id": "9ee7aea4",
   "metadata": {},
   "outputs": [
    {
     "name": "stdout",
     "output_type": "stream",
     "text": [
      "94\n"
     ]
    }
   ],
   "source": [
    "# add two elements at the index position 4 and 5\n",
    "add = orderList[4] + orderList[5]\n",
    "print(add)"
   ]
  },
  {
   "cell_type": "markdown",
   "id": "73032f78",
   "metadata": {},
   "source": [
    "if we tried to access list elements out of the given range then it gives an error"
   ]
  },
  {
   "cell_type": "code",
   "execution_count": 13,
   "id": "cf867662",
   "metadata": {},
   "outputs": [
    {
     "ename": "IndexError",
     "evalue": "list index out of range",
     "output_type": "error",
     "traceback": [
      "\u001b[1;31m---------------------------------------------------------------------------\u001b[0m",
      "\u001b[1;31mIndexError\u001b[0m                                Traceback (most recent call last)",
      "Input \u001b[1;32mIn [13]\u001b[0m, in \u001b[0;36m<cell line: 2>\u001b[1;34m()\u001b[0m\n\u001b[0;32m      1\u001b[0m my \u001b[38;5;241m=\u001b[39m [\u001b[38;5;241m1\u001b[39m ,\u001b[38;5;241m2\u001b[39m , \u001b[38;5;241m6\u001b[39m , \u001b[38;5;241m8\u001b[39m , \u001b[38;5;241m69\u001b[39m]\n\u001b[1;32m----> 2\u001b[0m \u001b[38;5;28mprint\u001b[39m(\u001b[43mmy\u001b[49m\u001b[43m[\u001b[49m\u001b[38;5;241;43m5\u001b[39;49m\u001b[43m]\u001b[49m)\n",
      "\u001b[1;31mIndexError\u001b[0m: list index out of range"
     ]
    }
   ],
   "source": [
    "my = [1 ,2 , 6 , 8 , 69]\n",
    "print(my[5])"
   ]
  },
  {
   "cell_type": "markdown",
   "id": "2d9361aa",
   "metadata": {},
   "source": [
    "#### List are changeable \n",
    "##### we can add the elements in the list"
   ]
  },
  {
   "cell_type": "code",
   "execution_count": 14,
   "id": "8c7be30a",
   "metadata": {},
   "outputs": [
    {
     "name": "stdout",
     "output_type": "stream",
     "text": [
      "[1, 2, 6, 8, 69, 45]\n"
     ]
    }
   ],
   "source": [
    "my = [1 ,2 , 6 , 8 , 69]\n",
    "my.append(45)\n",
    "print(my)"
   ]
  },
  {
   "cell_type": "code",
   "execution_count": 15,
   "id": "76413640",
   "metadata": {},
   "outputs": [
    {
     "name": "stdout",
     "output_type": "stream",
     "text": [
      "['dog', 1, 2, 6, 8, 69, 45]\n"
     ]
    }
   ],
   "source": [
    "# add element to the specific postion\n",
    "my.insert(0 , \"dog\")\n",
    "print(my)"
   ]
  },
  {
   "cell_type": "code",
   "execution_count": 16,
   "id": "5c69ca4c",
   "metadata": {},
   "outputs": [
    {
     "name": "stdout",
     "output_type": "stream",
     "text": [
      "['dog', 1, 2, 6, 8, 'cat', 69, 45]\n"
     ]
    }
   ],
   "source": [
    "my.insert(5 , \"cat\")\n",
    "print(my)"
   ]
  },
  {
   "cell_type": "markdown",
   "id": "9bee96a5",
   "metadata": {},
   "source": [
    "list can *extend* by adding another list at the end by using extend method"
   ]
  },
  {
   "cell_type": "code",
   "execution_count": 19,
   "id": "491914c5",
   "metadata": {},
   "outputs": [
    {
     "name": "stdout",
     "output_type": "stream",
     "text": [
      "['dog', 'cow', 'cat', 'monkey', 'ox', 'bull', 'sparrow']\n"
     ]
    }
   ],
   "source": [
    "animal = [\"dog\" , \"cow\" , \"cat\"]\n",
    "more_animal = [\"monkey\" , \"ox\" , \"bull\" , \"sparrow\"]\n",
    "animal.extend(more_animal)\n",
    "print(animal)"
   ]
  },
  {
   "cell_type": "code",
   "execution_count": null,
   "id": "0c93a52b",
   "metadata": {},
   "outputs": [],
   "source": [
    "# can we insert another list at specified index ??"
   ]
  },
  {
   "cell_type": "code",
   "execution_count": 20,
   "id": "9988619a",
   "metadata": {},
   "outputs": [
    {
     "name": "stdout",
     "output_type": "stream",
     "text": [
      "[4, 8, ['dog', 'cat'], 65, 77, 45]\n"
     ]
    }
   ],
   "source": [
    "a = [4 , 8 , 65 , 77 , 45]\n",
    "b = [\"dog\" , \"cat\"]\n",
    "a.insert(2 , b)\n",
    "print(a)"
   ]
  },
  {
   "cell_type": "markdown",
   "id": "d89650ba",
   "metadata": {},
   "source": [
    "#### The list() Constructor\n",
    "It is also possible to use the list() constructor when creating a new list."
   ]
  },
  {
   "cell_type": "code",
   "execution_count": 23,
   "id": "333e5ed3",
   "metadata": {},
   "outputs": [
    {
     "name": "stdout",
     "output_type": "stream",
     "text": [
      "['sun', 'moon', 'star', 'earth']\n",
      "<class 'list'>\n"
     ]
    }
   ],
   "source": [
    "new_list = list((\"sun\" , \"moon\" , \"star\" , \"earth\"))\n",
    "print(new_list)\n",
    "\n",
    "# to know the type of the list we can use type() function\n",
    "print(type(new_list))"
   ]
  },
  {
   "cell_type": "markdown",
   "id": "fd6e4170",
   "metadata": {},
   "source": [
    "# List Comprehension"
   ]
  },
  {
   "cell_type": "code",
   "execution_count": 25,
   "id": "6a1d3c95",
   "metadata": {},
   "outputs": [
    {
     "name": "stdout",
     "output_type": "stream",
     "text": [
      "[0, 1, 2, 3, 4, 5, 6, 7, 8, 9, 10, 11, 12, 13, 14, 15]\n"
     ]
    }
   ],
   "source": [
    "#create a list of number from 1 to 15\n",
    "num = [ x for x in range(16)]\n",
    "print(num)"
   ]
  },
  {
   "cell_type": "code",
   "execution_count": 27,
   "id": "ea692121",
   "metadata": {},
   "outputs": [
    {
     "name": "stdout",
     "output_type": "stream",
     "text": [
      "[1, 4, 9, 16, 25, 36, 49, 64, 81, 100]\n"
     ]
    }
   ],
   "source": [
    "# create a list of containing square from 1 to 10\n",
    "num2 = [ a*a for a in range(1 , 11)]\n",
    "print(num2)"
   ]
  },
  {
   "cell_type": "code",
   "execution_count": 29,
   "id": "e8ba726e",
   "metadata": {},
   "outputs": [
    {
     "name": "stdout",
     "output_type": "stream",
     "text": [
      "[0, 2, 4, 6, 8, 10]\n"
     ]
    }
   ],
   "source": [
    "# create a list of even numbers\n",
    "even = [a for a in range (0 , 11) if a%2==0]\n",
    "print(even)"
   ]
  },
  {
   "cell_type": "markdown",
   "id": "e35ac896",
   "metadata": {},
   "source": [
    "#### List Compreshension using nested list"
   ]
  },
  {
   "cell_type": "code",
   "execution_count": 31,
   "id": "42a1eed1",
   "metadata": {},
   "outputs": [
    {
     "name": "stdout",
     "output_type": "stream",
     "text": [
      "[20, 32, 36, 16, 40, 25, 40, 45, 20, 50, 30, 48, 54, 24, 60, 40, 64, 72, 32, 80]\n"
     ]
    }
   ],
   "source": [
    "a = [4 , 5 , 6 , 8]\n",
    "b = [5 ,8 ,9 ,4 ,10]\n",
    "c = [(i*j) for i in a for j in b]\n",
    "print(c)"
   ]
  },
  {
   "cell_type": "markdown",
   "id": "922654ff",
   "metadata": {},
   "source": [
    "# 2D List "
   ]
  },
  {
   "cell_type": "code",
   "execution_count": 32,
   "id": "c0bd76f9",
   "metadata": {},
   "outputs": [
    {
     "name": "stdout",
     "output_type": "stream",
     "text": [
      "[[0, 0, 0], [0, 0, 0]]\n"
     ]
    }
   ],
   "source": [
    "#Creating 2D List using Naive Method\n",
    "row , col = 2 ,3\n",
    "arr = [[0]*col]*row\n",
    "print(arr)"
   ]
  },
  {
   "cell_type": "code",
   "execution_count": 33,
   "id": "b88c73d1",
   "metadata": {},
   "outputs": [
    {
     "name": "stdout",
     "output_type": "stream",
     "text": [
      "[[0, 0, 0, 0, 0], [0, 0, 0, 0, 0], [0, 0, 0, 0, 0], [0, 0, 0, 0, 0], [0, 0, 0, 0, 0]]\n"
     ]
    }
   ],
   "source": [
    "# 2d array using list comprehension\n",
    "\n",
    "rows, cols = (5, 5)\n",
    "arr = [[0 for i in range(cols)] for j in range(rows)]\n",
    "print(arr)"
   ]
  },
  {
   "cell_type": "code",
   "execution_count": 45,
   "id": "12902a68",
   "metadata": {},
   "outputs": [
    {
     "name": "stdout",
     "output_type": "stream",
     "text": [
      "[[0, 0, 0, 0], [0, 1, 2, 3], [0, 2, 4, 6], [0, 3, 6, 9]]\n"
     ]
    }
   ],
   "source": [
    "row , col = (4, 4)\n",
    "arr = [[i*j for i in range(col)] for j in range(row)]\n",
    "print(arr)"
   ]
  },
  {
   "cell_type": "code",
   "execution_count": null,
   "id": "b386ca25",
   "metadata": {},
   "outputs": [],
   "source": []
  },
  {
   "cell_type": "code",
   "execution_count": null,
   "id": "15ec0db9",
   "metadata": {},
   "outputs": [],
   "source": []
  }
 ],
 "metadata": {
  "kernelspec": {
   "display_name": "Python 3 (ipykernel)",
   "language": "python",
   "name": "python3"
  },
  "language_info": {
   "codemirror_mode": {
    "name": "ipython",
    "version": 3
   },
   "file_extension": ".py",
   "mimetype": "text/x-python",
   "name": "python",
   "nbconvert_exporter": "python",
   "pygments_lexer": "ipython3",
   "version": "3.9.12"
  }
 },
 "nbformat": 4,
 "nbformat_minor": 5
}
