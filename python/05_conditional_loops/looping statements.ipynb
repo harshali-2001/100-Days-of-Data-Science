{
 "cells": [
  {
   "cell_type": "markdown",
   "id": "47f7d34a",
   "metadata": {},
   "source": [
    "# Looping Statements"
   ]
  },
  {
   "cell_type": "markdown",
   "id": "9a19e051",
   "metadata": {},
   "source": [
    "Looing statment in python allow you to repeatedly execute a block of code as long as a certain condition is met </b>\n",
    "there are mainly two types of loops in python : </br>\n",
    "    <b>1] for loop</b> </br>\n",
    "    <b>2] while loop</b>"
   ]
  },
  {
   "cell_type": "markdown",
   "id": "4589d870",
   "metadata": {},
   "source": [
    "### 'for' Loop : "
   ]
  },
  {
   "cell_type": "markdown",
   "id": "fd830e91",
   "metadata": {},
   "source": [
    "The for loop is used to iterate over a sequence (like a list, tuple, string, or range) or any other iterable object. It executes a block of code for each item in the sequence. The syntax is: </br>\n",
    "    \n",
    "    for item in sequence: </br>\n",
    "    # code to execute for each item\n",
    "    "
   ]
  },
  {
   "cell_type": "code",
   "execution_count": 2,
   "id": "439ef1b2",
   "metadata": {},
   "outputs": [
    {
     "name": "stdout",
     "output_type": "stream",
     "text": [
      "dog\n",
      "cat\n",
      "monkey\n",
      "cow\n"
     ]
    }
   ],
   "source": [
    "animal = [\"dog\" , \"cat\" , \"monkey\" , \"cow\"]\n",
    "\n",
    "for a in animal:\n",
    "    print(a)"
   ]
  },
  {
   "cell_type": "markdown",
   "id": "b176cd8c",
   "metadata": {},
   "source": [
    "### 'while' Loop:"
   ]
  },
  {
   "cell_type": "markdown",
   "id": "d51dd1d3",
   "metadata": {},
   "source": [
    "The while loop is used to repeatedly execute a block of code as long as a specified condition is true. It continues as long as the condition is met. The syntax is: </br>\n",
    "    \n",
    "    while condition: </br>\n",
    "    # code to execute while condition is true"
   ]
  },
  {
   "cell_type": "code",
   "execution_count": 3,
   "id": "1742d684",
   "metadata": {},
   "outputs": [
    {
     "name": "stdout",
     "output_type": "stream",
     "text": [
      "0\n",
      "1\n",
      "2\n",
      "3\n",
      "4\n"
     ]
    }
   ],
   "source": [
    "count = 0\n",
    "\n",
    "while count<5:\n",
    "    print(count)\n",
    "    count += 1"
   ]
  },
  {
   "cell_type": "markdown",
   "id": "71d55e09",
   "metadata": {},
   "source": [
    "### Control Statements in Loops:\n",
    " <b>1] break:</b> It is used to exit the loop prematurely, before the loop condition is met. </br>\n",
    " <b>2] continue:</b> It is used to skip the current iteration and move to the next one."
   ]
  },
  {
   "cell_type": "code",
   "execution_count": 4,
   "id": "40fd8560",
   "metadata": {},
   "outputs": [
    {
     "name": "stdout",
     "output_type": "stream",
     "text": [
      "0\n",
      "1\n",
      "2\n",
      "3\n",
      "4\n"
     ]
    }
   ],
   "source": [
    "for i in range(10):\n",
    "    if i == 5:\n",
    "        break\n",
    "    print(i)"
   ]
  },
  {
   "cell_type": "code",
   "execution_count": 5,
   "id": "3dbc0bcd",
   "metadata": {},
   "outputs": [
    {
     "name": "stdout",
     "output_type": "stream",
     "text": [
      "0\n",
      "1\n",
      "2\n",
      "3\n",
      "4\n",
      "6\n",
      "7\n",
      "8\n",
      "9\n"
     ]
    }
   ],
   "source": [
    "for i in range(10):\n",
    "    if i == 5:\n",
    "        continue\n",
    "    print(i)"
   ]
  },
  {
   "cell_type": "code",
   "execution_count": null,
   "id": "09879391",
   "metadata": {},
   "outputs": [],
   "source": []
  },
  {
   "cell_type": "code",
   "execution_count": null,
   "id": "cd9c2115",
   "metadata": {},
   "outputs": [],
   "source": []
  },
  {
   "cell_type": "code",
   "execution_count": null,
   "id": "a146c4ca",
   "metadata": {},
   "outputs": [],
   "source": []
  }
 ],
 "metadata": {
  "kernelspec": {
   "display_name": "Python 3 (ipykernel)",
   "language": "python",
   "name": "python3"
  },
  "language_info": {
   "codemirror_mode": {
    "name": "ipython",
    "version": 3
   },
   "file_extension": ".py",
   "mimetype": "text/x-python",
   "name": "python",
   "nbconvert_exporter": "python",
   "pygments_lexer": "ipython3",
   "version": "3.9.12"
  }
 },
 "nbformat": 4,
 "nbformat_minor": 5
}
