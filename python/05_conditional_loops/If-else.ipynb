{
 "cells": [
  {
   "cell_type": "markdown",
   "id": "04959a8b",
   "metadata": {},
   "source": [
    "# if-else"
   ]
  },
  {
   "cell_type": "markdown",
   "id": "5d0528ae",
   "metadata": {},
   "source": [
    "An \"if statement\" is written by using the <b>if</b> keyword. <br>\n",
    "<b>elif </b> keyword is Python's way of saying \"if the previous conditions were not true, then try this condition\". </br>\n",
    "\n"
   ]
  },
  {
   "cell_type": "markdown",
   "id": "a99b7165",
   "metadata": {},
   "source": [
    "### if statement "
   ]
  },
  {
   "cell_type": "markdown",
   "id": "04af4a8a",
   "metadata": {},
   "source": [
    "##### The if statement is used to execute a block of code only if a specified condition is true. The syntax is as follows:\n",
    "if condition:</br>\n",
    "    --code to execute if condition is true\n",
    "    "
   ]
  },
  {
   "cell_type": "code",
   "execution_count": 6,
   "id": "d8bd997b",
   "metadata": {},
   "outputs": [
    {
     "name": "stdout",
     "output_type": "stream",
     "text": [
      "x = 25 is greater than 5\n"
     ]
    }
   ],
   "source": [
    "x = 25\n",
    "\n",
    "if x>5:\n",
    "    print(\"x = {} is greater than 5\" .format(x))"
   ]
  },
  {
   "cell_type": "markdown",
   "id": "4f85fa9d",
   "metadata": {},
   "source": [
    "### else statement:\n",
    "\n",
    "#### The else statement is used to execute a block of code if the condition in the if statement is false. The syntax is:\n",
    "\n",
    "if condition: </br>\n",
    "    # code to execute if condition is true </br>\n",
    "else:</br>\n",
    "    # code to execute if condition is false"
   ]
  },
  {
   "cell_type": "code",
   "execution_count": 7,
   "id": "0f89e1fa",
   "metadata": {},
   "outputs": [
    {
     "name": "stdout",
     "output_type": "stream",
     "text": [
      "x is not greater than 5\n"
     ]
    }
   ],
   "source": [
    "x = 2 \n",
    "\n",
    "if x > 5:\n",
    "    print(\"x is greater than 5\")\n",
    "else:\n",
    "    print(\"x is not greater than 5\")"
   ]
  },
  {
   "cell_type": "markdown",
   "id": "c60f058a",
   "metadata": {},
   "source": [
    "### elif statement:\n",
    "\n",
    "The elif statement is used to specify additional conditions to check after the initial if condition. It stands for \"else if\". You can have multiple elif statements after an if statement. The syntax is\n",
    "\n",
    "<b>if </b> condition1: </br> \n",
    "    # code to execute if condition1 is true </br>\n",
    "<b>elif </b> condition2: </br>\n",
    "    # code to execute if condition2 is true</br>\n",
    "<b>else</b>:</br>\n",
    "    # code to execute if all conditions are false</br>\n"
   ]
  },
  {
   "cell_type": "code",
   "execution_count": 11,
   "id": "e01a7f08",
   "metadata": {},
   "outputs": [
    {
     "name": "stdout",
     "output_type": "stream",
     "text": [
      "enter a number : 8\n",
      "x is greater than 5 but not greater than 10\n"
     ]
    }
   ],
   "source": [
    "x = int(input(\"enter a number : \"))\n",
    "\n",
    "if x >10:\n",
    "    print(\"x is greater then 10\")\n",
    "elif x>5:\n",
    "    print(\"x is greater than 5 but not greater than 10\")\n",
    "else:\n",
    "    print(\"x is not greater than 5\")"
   ]
  },
  {
   "cell_type": "code",
   "execution_count": null,
   "id": "07d49abb",
   "metadata": {},
   "outputs": [],
   "source": []
  },
  {
   "cell_type": "markdown",
   "id": "cf357eb1",
   "metadata": {},
   "source": [
    "# Practice Questions:"
   ]
  },
  {
   "cell_type": "markdown",
   "id": "56570fef",
   "metadata": {},
   "source": [
    "1] Write a Python program that takes a number as input and prints whether it's even or odd."
   ]
  },
  {
   "cell_type": "code",
   "execution_count": 13,
   "id": "afc9e786",
   "metadata": {},
   "outputs": [
    {
     "name": "stdout",
     "output_type": "stream",
     "text": [
      "Enter a number to check even or oddv: 456\n",
      "456 is a even number : \n"
     ]
    }
   ],
   "source": [
    "\n",
    "num = int(input(\"Enter a number to check even or oddv: \"))\n",
    "\n",
    "if num%2==0:\n",
    "    print(\"{} is a even number : \" .format(num))\n",
    "else:\n",
    "    print(\"{} is a odd number : \" .format(num))"
   ]
  },
  {
   "cell_type": "markdown",
   "id": "457b24c8",
   "metadata": {},
   "source": [
    " 2] Write a program that prompts the user for their age and then prints whether they are a child, teenager, or an adult"
   ]
  },
  {
   "cell_type": "code",
   "execution_count": 18,
   "id": "fd15c766",
   "metadata": {},
   "outputs": [
    {
     "name": "stdout",
     "output_type": "stream",
     "text": [
      "Enter an age of a person : 96\n",
      "old\n"
     ]
    }
   ],
   "source": [
    "\n",
    "# child age range from 0-15\n",
    "# teenager age range from 16-22\n",
    "# audlt age range from 22-49\n",
    "# old age above 50\n",
    "\n",
    "age = int(input(\"Enter an age of a person : \"))\n",
    "\n",
    "if age >=0 and age <=15:\n",
    "    print(\"-> child\")\n",
    "elif age>=16 and age <=22:\n",
    "    print(\"-> Teenager\")\n",
    "elif age>=23 and age <=49:\n",
    "    print(\"-> Audlt\")\n",
    "else:\n",
    "    print(\"old\")\n"
   ]
  },
  {
   "cell_type": "markdown",
   "id": "f17f25a6",
   "metadata": {},
   "source": [
    " 3] Create a program that asks the user to input their grade (in percentage) and then prints whether they passed or failed. Assume passing is 40% or above"
   ]
  },
  {
   "cell_type": "code",
   "execution_count": 23,
   "id": "d4c1debc",
   "metadata": {},
   "outputs": [
    {
     "name": "stdout",
     "output_type": "stream",
     "text": [
      "Enter your Percentage to know your grade : 65\n",
      "grade C\n"
     ]
    }
   ],
   "source": [
    "marks = int(input(\"Enter your Percentage to know your grade : \"))\n",
    "\n",
    "if marks <= 100 and marks >=90:\n",
    "    print(\"grade A\")\n",
    "elif marks <=89 and marks >=70:\n",
    "     print(\"grade B\")\n",
    "elif marks <=69 and marks >=50:\n",
    "    print(\"grade C\")\n",
    "elif marks <=49 and marks >=40:\n",
    "    print(\"grade D\")\n",
    "else:\n",
    "    print(\"Fail\")"
   ]
  },
  {
   "cell_type": "markdown",
   "id": "63ea39b6",
   "metadata": {},
   "source": [
    " 4] Write a program that takes a year as input and prints whether it's a leap year or not. (A leap year is divisible by 4, but not by 100 unless it's also divisible by 400)\n"
   ]
  },
  {
   "cell_type": "markdown",
   "id": "10d8fa3e",
   "metadata": {},
   "source": [
    " 5]Create a program that prompts the user to enter a password. If the password is \"OpenSesame\", print \"Access Granted\". Otherwise, print \"Access Denied\".\n",
    "\n",
    "\n"
   ]
  },
  {
   "cell_type": "markdown",
   "id": "dfc35a6c",
   "metadata": {},
   "source": [
    "6] Write a program that asks the user to enter two numbers and then prints the larger of the two.\n",
    "\n",
    "\n"
   ]
  },
  {
   "cell_type": "markdown",
   "id": "ef04775e",
   "metadata": {},
   "source": [
    " 7] Create a program that takes a letter of the alphabet as input and prints whether it's a vowel or a consonant.\n",
    "\n",
    "\n",
    "\n"
   ]
  },
  {
   "cell_type": "markdown",
   "id": "a4229020",
   "metadata": {},
   "source": [
    "8] Write a program that prompts the user to enter three numbers and then prints the largest number.\n",
    "\n",
    "\n",
    "\n"
   ]
  },
  {
   "cell_type": "markdown",
   "id": "cbf29c86",
   "metadata": {},
   "source": [
    " 9] Create a program that asks the user to enter a month (as a number) and then prints the corresponding name of the month.\n",
    "\n",
    "\n"
   ]
  },
  {
   "cell_type": "markdown",
   "id": "81b574cc",
   "metadata": {},
   "source": [
    "10] Write a program that takes an integer as input and prints whether it's positive, negative, or zero.\n",
    "\n",
    "\n",
    "\n",
    "."
   ]
  },
  {
   "cell_type": "code",
   "execution_count": null,
   "id": "381bde11",
   "metadata": {},
   "outputs": [],
   "source": []
  },
  {
   "cell_type": "code",
   "execution_count": null,
   "id": "b9d225f8",
   "metadata": {},
   "outputs": [],
   "source": []
  }
 ],
 "metadata": {
  "kernelspec": {
   "display_name": "Python 3 (ipykernel)",
   "language": "python",
   "name": "python3"
  },
  "language_info": {
   "codemirror_mode": {
    "name": "ipython",
    "version": 3
   },
   "file_extension": ".py",
   "mimetype": "text/x-python",
   "name": "python",
   "nbconvert_exporter": "python",
   "pygments_lexer": "ipython3",
   "version": "3.9.12"
  }
 },
 "nbformat": 4,
 "nbformat_minor": 5
}
