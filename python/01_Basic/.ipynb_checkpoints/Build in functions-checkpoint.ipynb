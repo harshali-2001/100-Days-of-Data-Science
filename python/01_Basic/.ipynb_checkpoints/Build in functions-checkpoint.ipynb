{
 "cells": [
  {
   "cell_type": "markdown",
   "id": "bc73e45a",
   "metadata": {},
   "source": [
    "# Build-in Function in python\n",
    "\n",
    "#### Built-in functions in Python are pre-defined functions provided by the Python language that can be used to perform common tasks. "
   ]
  },
  {
   "cell_type": "markdown",
   "id": "a77b97e4",
   "metadata": {},
   "source": [
    "#### abs()  Return absolute value of number"
   ]
  },
  {
   "cell_type": "code",
   "execution_count": 1,
   "id": "3595cc92",
   "metadata": {},
   "outputs": [
    {
     "name": "stdout",
     "output_type": "stream",
     "text": [
      "458.12\n"
     ]
    }
   ],
   "source": [
    "print(abs(-458.12))"
   ]
  },
  {
   "cell_type": "code",
   "execution_count": 4,
   "id": "84c7bceb",
   "metadata": {},
   "outputs": [
    {
     "name": "stdout",
     "output_type": "stream",
     "text": [
      "34.36568055487916\n"
     ]
    }
   ],
   "source": [
    "print(abs(34+5j)"
   ]
  },
  {
   "cell_type": "markdown",
   "id": "530404a2",
   "metadata": {},
   "source": [
    "#### The all() function returns True if all items in an iterable are true, otherwise it returns False.\n",
    "\n",
    "If the iterable object is empty, the all() function also returns True."
   ]
  },
  {
   "cell_type": "code",
   "execution_count": 6,
   "id": "68e563d2",
   "metadata": {},
   "outputs": [],
   "source": [
    "mylist = [0, 1, 1]\n",
    "x = all(mylist)"
   ]
  },
  {
   "cell_type": "code",
   "execution_count": null,
   "id": "07d18096",
   "metadata": {},
   "outputs": [],
   "source": []
  },
  {
   "cell_type": "code",
   "execution_count": null,
   "id": "1cfb385e",
   "metadata": {},
   "outputs": [],
   "source": []
  }
 ],
 "metadata": {
  "kernelspec": {
   "display_name": "Python 3 (ipykernel)",
   "language": "python",
   "name": "python3"
  },
  "language_info": {
   "codemirror_mode": {
    "name": "ipython",
    "version": 3
   },
   "file_extension": ".py",
   "mimetype": "text/x-python",
   "name": "python",
   "nbconvert_exporter": "python",
   "pygments_lexer": "ipython3",
   "version": "3.9.12"
  }
 },
 "nbformat": 4,
 "nbformat_minor": 5
}
