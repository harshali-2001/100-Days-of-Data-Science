{
 "cells": [
  {
   "cell_type": "markdown",
   "id": "fe642401",
   "metadata": {},
   "source": [
    "# Operators In Python"
   ]
  },
  {
   "cell_type": "markdown",
   "id": "a8083b81",
   "metadata": {},
   "source": [
    "##### Operators are used to perfrom various operations on variables\n"
   ]
  },
  {
   "cell_type": "markdown",
   "id": "7a4fd0f9",
   "metadata": {},
   "source": [
    "#### Different Types of  operators are:\n",
    "###### 1] Arithmetic Operators\n",
    "###### 2] Assignment Operators\n",
    "###### 3] Logical Operators\n",
    "###### 4] Comparison Operators\n",
    "###### 5] Identity Operators\n",
    "###### 6] Membership Operators\n",
    "###### 7] Bitwise Operators"
   ]
  },
  {
   "cell_type": "markdown",
   "id": "88f16f05",
   "metadata": {},
   "source": [
    "# Arithmetic Operators"
   ]
  },
  {
   "cell_type": "markdown",
   "id": "5821497f",
   "metadata": {},
   "source": [
    "##### + ➡ Addition ➡ a+b\n",
    "##### - ➡ Substraction ➡ a-b\n",
    "##### * ➡ Multiplication ➡ a*b\n",
    "##### / ➡ Division ➡ a/b\n",
    "##### * * ➡ Exponentiation ➡ a * * b\n",
    "##### // ➡ Floor Division ➡ a//b\n",
    "##### % ➡ Modulus ➡ a%b"
   ]
  },
  {
   "cell_type": "code",
   "execution_count": 4,
   "id": "d42ff15b",
   "metadata": {},
   "outputs": [
    {
     "name": "stdout",
     "output_type": "stream",
     "text": [
      "15\n",
      "5\n",
      "50\n",
      "2.0\n",
      "2\n",
      "0\n"
     ]
    }
   ],
   "source": [
    "x = 10\n",
    "y = 5\n",
    "\n",
    "print(x+y)   # 10+5 = 15\n",
    "print(x-y)   # 10-5 = 5\n",
    "print(x*y)   # 10*5 = 50\n",
    "print(x/y)   #10/5= 2\n",
    "print(x//y)  # 10//5 = 2  i.e floor division \n",
    "print(x%y)   #10%5 = 0    i.e modulus , give remainder"
   ]
  },
  {
   "cell_type": "code",
   "execution_count": null,
   "id": "d11e59d6",
   "metadata": {},
   "outputs": [],
   "source": []
  },
  {
   "cell_type": "code",
   "execution_count": null,
   "id": "5138a2e3",
   "metadata": {},
   "outputs": [],
   "source": []
  }
 ],
 "metadata": {
  "kernelspec": {
   "display_name": "Python 3 (ipykernel)",
   "language": "python",
   "name": "python3"
  },
  "language_info": {
   "codemirror_mode": {
    "name": "ipython",
    "version": 3
   },
   "file_extension": ".py",
   "mimetype": "text/x-python",
   "name": "python",
   "nbconvert_exporter": "python",
   "pygments_lexer": "ipython3",
   "version": "3.9.12"
  }
 },
 "nbformat": 4,
 "nbformat_minor": 5
}
