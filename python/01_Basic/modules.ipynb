{
 "cells": [
  {
   "cell_type": "markdown",
   "id": "65cef586",
   "metadata": {},
   "source": [
    "# Modules"
   ]
  },
  {
   "cell_type": "markdown",
   "id": "22ab5267",
   "metadata": {},
   "source": [
    "##### some commom built in modules are\n",
    "<b>math</b></br>\n",
    "<b>datetime</b></br>\n",
    "<b>os</b></br>\n",
    "<b>sys</b></br>\n",
    "<b>random</b></br>\n",
    "<b>statistics</b></br>\n",
    "<b>collections</b></br>\n",
    "<b>json</b></br>\n",
    "<b>re</b></br>"
   ]
  },
  {
   "cell_type": "markdown",
   "id": "9672e834",
   "metadata": {},
   "source": [
    "# Os modules\n",
    "The OS module in Python provides functions for creating, changing current working directory, and removing a directory (folder), fetching its contents, changing and identifying the current directory.\n"
   ]
  },
  {
   "cell_type": "code",
   "execution_count": 5,
   "id": "2783348a",
   "metadata": {},
   "outputs": [],
   "source": [
    "#  import modules\n",
    "import os\n",
    "\n",
    "# creating a directory\n",
    "os.mkdir(\"directory_name\")\n",
    "\n",
    "# changing the current directory\n",
    "os.chdir('Day_04_Conditionals_Loop_Functions')\n",
    "\n",
    "# getting current working directory\n",
    "os.getcwd()\n",
    "\n",
    "# Removing directory\n",
    "os.rmdir()\n"
   ]
  },
  {
   "cell_type": "markdown",
   "id": "47532314",
   "metadata": {},
   "source": [
    "#### Statistics Module\n",
    "The statistics module provides functions for mathematical statistics of numeric data. The popular statistical functions which are defined in this module: mean, median, mode, stdev etc.\n",
    "\n",
    "\n"
   ]
  },
  {
   "cell_type": "code",
   "execution_count": 9,
   "id": "208947f2",
   "metadata": {},
   "outputs": [
    {
     "name": "stdout",
     "output_type": "stream",
     "text": [
      "21.09090909090909\n",
      "22\n",
      "20\n",
      "6.106628291529549\n"
     ]
    }
   ],
   "source": [
    "from statistics import * # importing all the statistics modules \n",
    "\n",
    "age = [20,20,4 ,24, 25,22,26,20,23, 22, 26]\n",
    "\n",
    "print(mean(age))\n",
    "print(median(age))\n",
    "print(mode(age)) # mode -> maximum occurance\n",
    "print(stdev(age)) # standard deviation"
   ]
  },
  {
   "cell_type": "markdown",
   "id": "802f351d",
   "metadata": {},
   "source": [
    "### math module\n"
   ]
  },
  {
   "cell_type": "code",
   "execution_count": null,
   "id": "0e3c7c47",
   "metadata": {},
   "outputs": [],
   "source": []
  }
 ],
 "metadata": {
  "kernelspec": {
   "display_name": "Python 3 (ipykernel)",
   "language": "python",
   "name": "python3"
  },
  "language_info": {
   "codemirror_mode": {
    "name": "ipython",
    "version": 3
   },
   "file_extension": ".py",
   "mimetype": "text/x-python",
   "name": "python",
   "nbconvert_exporter": "python",
   "pygments_lexer": "ipython3",
   "version": "3.9.12"
  }
 },
 "nbformat": 4,
 "nbformat_minor": 5
}
