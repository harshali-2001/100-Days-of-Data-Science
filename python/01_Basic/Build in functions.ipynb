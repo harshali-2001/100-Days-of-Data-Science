{
 "cells": [
  {
   "cell_type": "markdown",
   "id": "c2e71c8e",
   "metadata": {},
   "source": [
    "# Build-in Function in python\n",
    "\n",
    "#### Built-in functions in Python are pre-defined functions provided by the Python language that can be used to perform common tasks. "
   ]
  },
  {
   "cell_type": "markdown",
   "id": "14388f4d",
   "metadata": {},
   "source": [
    "# abs()\n",
    "#### abs()  Return absolute value of number"
   ]
  },
  {
   "cell_type": "code",
   "execution_count": 1,
   "id": "fafda3c2",
   "metadata": {},
   "outputs": [
    {
     "name": "stdout",
     "output_type": "stream",
     "text": [
      "458.12\n"
     ]
    }
   ],
   "source": [
    "print(abs(-458.12))"
   ]
  },
  {
   "cell_type": "code",
   "execution_count": 4,
   "id": "f945b83f",
   "metadata": {},
   "outputs": [
    {
     "name": "stdout",
     "output_type": "stream",
     "text": [
      "34.36568055487916\n"
     ]
    }
   ],
   "source": [
    "print(abs(34+5j)"
   ]
  },
  {
   "cell_type": "markdown",
   "id": "90181a55",
   "metadata": {},
   "source": [
    "# all()\n",
    "#### The all() function returns True if all items in an iterable are true, otherwise it returns False.\n",
    "\n",
    "If the iterable object is empty, the all() function also returns True."
   ]
  },
  {
   "cell_type": "code",
   "execution_count": 8,
   "id": "6aa6d149",
   "metadata": {},
   "outputs": [],
   "source": [
    "mylist = [0, 1, 1]\n",
    "x = all(mylist)"
   ]
  },
  {
   "cell_type": "code",
   "execution_count": 10,
   "id": "e1e76785",
   "metadata": {},
   "outputs": [
    {
     "name": "stdout",
     "output_type": "stream",
     "text": [
      "(1, 0, 1)  ->  False\n",
      "(1, 1, 1)  ->  True\n"
     ]
    }
   ],
   "source": [
    "x = ( 1,0 ,1)\n",
    "y = (1 ,1,1)\n",
    "b = all(y)\n",
    "a = all(x)\n",
    "print(x , \" -> \", a)\n",
    "print(y , \" -> \", b)"
   ]
  },
  {
   "cell_type": "code",
   "execution_count": 11,
   "id": "889a49f8",
   "metadata": {},
   "outputs": [
    {
     "name": "stdout",
     "output_type": "stream",
     "text": [
      "True\n"
     ]
    }
   ],
   "source": [
    "my_list = [\"anayan\" , \"Pratik\" , \"pihu\" , 45]\n",
    "ans= all(my_list)\n",
    "print(ans)"
   ]
  },
  {
   "cell_type": "markdown",
   "id": "d39e7b7e",
   "metadata": {},
   "source": [
    "# ascii()\n",
    "#### The ascii() function returns a readable version of any object (Strings, Tuples, Lists, etc).\n",
    "\n",
    "#### The ascii() function will replace any non-ascii characters with escape characters:"
   ]
  },
  {
   "cell_type": "code",
   "execution_count": 12,
   "id": "aecd5241",
   "metadata": {},
   "outputs": [
    {
     "name": "stdout",
     "output_type": "stream",
     "text": [
      "45\n"
     ]
    }
   ],
   "source": [
    "num = 45\n",
    "a = ascii(num)\n",
    "print(a)"
   ]
  },
  {
   "cell_type": "code",
   "execution_count": 14,
   "id": "8c14f308",
   "metadata": {},
   "outputs": [
    {
     "name": "stdout",
     "output_type": "stream",
     "text": [
      "'harshali'\n",
      "['anayan', 'Pratik', 'pihu', 45]\n"
     ]
    }
   ],
   "source": [
    "string = \"harshali\"\n",
    "mylist =  [\"anayan\" , \"Pratik\" , \"pihu\" , 45]\n",
    "print(ascii(string))\n",
    "print(ascii(mylist))"
   ]
  },
  {
   "cell_type": "code",
   "execution_count": 16,
   "id": "18e1cfde",
   "metadata": {},
   "outputs": [
    {
     "name": "stdout",
     "output_type": "stream",
     "text": [
      "'~'\n"
     ]
    }
   ],
   "source": [
    "value = \"~\"\n",
    "print(ascii(value))"
   ]
  },
  {
   "cell_type": "markdown",
   "id": "23e76e13",
   "metadata": {},
   "source": [
    "# bin() , hex(), oct()\n",
    "\n",
    "#### The bin() function returns the binary version of a specified integer.\n",
    "\n",
    "The result will always start with the prefix 0b\n",
    "\n",
    "#### The oct() function converts an integer into an octal string.\n",
    "\n",
    "Octal strings in Python are prefixed with 0o\n",
    "\n",
    "#### The hex() function converts the specified number into a hexadecimal value.\n",
    "\n",
    "The returned string always starts with the prefix 0x."
   ]
  },
  {
   "cell_type": "code",
   "execution_count": 22,
   "id": "3c0cad69",
   "metadata": {},
   "outputs": [
    {
     "name": "stdout",
     "output_type": "stream",
     "text": [
      "enter any number : 11\n",
      "binary conversion  0b1011\n",
      "hexa Decimal conversion  0xb\n",
      "octal conversion  0o13\n"
     ]
    }
   ],
   "source": [
    "def numberConversion(num):\n",
    "    binary = bin(num)\n",
    "    hexa = hex(num)\n",
    "    octal = oct(num)\n",
    "\n",
    "    print(\"binary conversion \" , binary)\n",
    "    print(\"hexa Decimal conversion \" , hexa)\n",
    "    print(\"octal conversion \" , octal)\n",
    "    \n",
    "num = int(input(\"enter any number : \"))\n",
    "numberConversion(num)"
   ]
  },
  {
   "cell_type": "markdown",
   "id": "6dc76857",
   "metadata": {},
   "source": [
    "# min() , max() , sum()\n",
    "\n",
    "#### The max() function returns the item with the highest value, or the item with the highest value in an iterable.\n",
    "\n",
    "If the values are strings, an alphabetically comparison is done.\n",
    "\n",
    "#### The min() function returns the item with the lowest value, or the item with the lowest value in an iterable.\n",
    "\n",
    "If the values are strings, an alphabetically comparison is done\n",
    "\n",
    "#### The sum() function returns a number, the sum of all items in an iterable."
   ]
  },
  {
   "cell_type": "code",
   "execution_count": 24,
   "id": "26c52ceb",
   "metadata": {},
   "outputs": [
    {
     "name": "stdout",
     "output_type": "stream",
     "text": [
      "minimum number :  -9\n",
      "maximum number :  85\n",
      "sum of numbers :  195\n"
     ]
    }
   ],
   "source": [
    "x = [45 , 85 , 65 , 8 , -9 , 1]\n",
    "\n",
    "print(\"minimum number : \" , min(x))\n",
    "print(\"maximum number : \" , max(x))\n",
    "print(\"sum of numbers : \" , sum(x))"
   ]
  },
  {
   "cell_type": "code",
   "execution_count": 27,
   "id": "7c42caaf",
   "metadata": {},
   "outputs": [
    {
     "ename": "TypeError",
     "evalue": "sum() takes at most 2 arguments (4 given)",
     "output_type": "error",
     "traceback": [
      "\u001b[1;31m---------------------------------------------------------------------------\u001b[0m",
      "\u001b[1;31mTypeError\u001b[0m                                 Traceback (most recent call last)",
      "Input \u001b[1;32mIn [27]\u001b[0m, in \u001b[0;36m<cell line: 1>\u001b[1;34m()\u001b[0m\n\u001b[1;32m----> 1\u001b[0m \u001b[38;5;28mprint\u001b[39m(\u001b[38;5;28;43msum\u001b[39;49m\u001b[43m(\u001b[49m\u001b[38;5;241;43m4\u001b[39;49m\u001b[43m,\u001b[49m\u001b[43m \u001b[49m\u001b[38;5;241;43m5\u001b[39;49m\u001b[43m \u001b[49m\u001b[43m,\u001b[49m\u001b[38;5;241;43m5\u001b[39;49m\u001b[43m \u001b[49m\u001b[43m,\u001b[49m\u001b[38;5;241;43m10\u001b[39;49m\u001b[43m)\u001b[49m)\n",
      "\u001b[1;31mTypeError\u001b[0m: sum() takes at most 2 arguments (4 given)"
     ]
    }
   ],
   "source": [
    "print(sum(4, 5 ,5 ,10))"
   ]
  },
  {
   "cell_type": "code",
   "execution_count": 28,
   "id": "f5e6fb4b",
   "metadata": {},
   "outputs": [
    {
     "ename": "TypeError",
     "evalue": "'int' object is not iterable",
     "output_type": "error",
     "traceback": [
      "\u001b[1;31m---------------------------------------------------------------------------\u001b[0m",
      "\u001b[1;31mTypeError\u001b[0m                                 Traceback (most recent call last)",
      "Input \u001b[1;32mIn [28]\u001b[0m, in \u001b[0;36m<cell line: 1>\u001b[1;34m()\u001b[0m\n\u001b[1;32m----> 1\u001b[0m \u001b[38;5;28mprint\u001b[39m(\u001b[38;5;28;43msum\u001b[39;49m\u001b[43m(\u001b[49m\u001b[38;5;241;43m45\u001b[39;49m\u001b[43m \u001b[49m\u001b[43m,\u001b[49m\u001b[43m \u001b[49m\u001b[38;5;241;43m10\u001b[39;49m\u001b[43m)\u001b[49m)\n",
      "\u001b[1;31mTypeError\u001b[0m: 'int' object is not iterable"
     ]
    }
   ],
   "source": [
    "print(sum(45 , 10))"
   ]
  },
  {
   "cell_type": "code",
   "execution_count": 29,
   "id": "a9933ff5",
   "metadata": {},
   "outputs": [
    {
     "name": "stdout",
     "output_type": "stream",
     "text": [
      "55\n"
     ]
    }
   ],
   "source": [
    "myList = (45 , 10)\n",
    "print(sum(myList))"
   ]
  },
  {
   "cell_type": "markdown",
   "id": "8cd6f873",
   "metadata": {},
   "source": [
    "from the above cells we understand that sum() function perform well on the iterable object like list, tuples, dic "
   ]
  },
  {
   "cell_type": "code",
   "execution_count": null,
   "id": "607cce72",
   "metadata": {},
   "outputs": [],
   "source": []
  },
  {
   "cell_type": "code",
   "execution_count": null,
   "id": "e06cf1ef",
   "metadata": {},
   "outputs": [],
   "source": []
  },
  {
   "cell_type": "code",
   "execution_count": null,
   "id": "94e0a482",
   "metadata": {},
   "outputs": [],
   "source": []
  },
  {
   "cell_type": "code",
   "execution_count": null,
   "id": "096a891f",
   "metadata": {},
   "outputs": [],
   "source": []
  },
  {
   "cell_type": "code",
   "execution_count": null,
   "id": "850d3e96",
   "metadata": {},
   "outputs": [],
   "source": []
  },
  {
   "cell_type": "code",
   "execution_count": null,
   "id": "0cf7e0ee",
   "metadata": {},
   "outputs": [],
   "source": []
  }
 ],
 "metadata": {
  "kernelspec": {
   "display_name": "Python 3 (ipykernel)",
   "language": "python",
   "name": "python3"
  },
  "language_info": {
   "codemirror_mode": {
    "name": "ipython",
    "version": 3
   },
   "file_extension": ".py",
   "mimetype": "text/x-python",
   "name": "python",
   "nbconvert_exporter": "python",
   "pygments_lexer": "ipython3",
   "version": "3.9.12"
  }
 },
 "nbformat": 4,
 "nbformat_minor": 5
}
