{
 "cells": [
  {
   "cell_type": "markdown",
   "id": "f2ccf97b",
   "metadata": {},
   "source": [
    "# Variables in Python"
   ]
  },
  {
   "cell_type": "markdown",
   "id": "6d6a0d58",
   "metadata": {},
   "source": [
    "##### A Python variable is a reserved memory location to store values. \n",
    "##### Variable in a python program gives data to the computer for processing.\n",
    "##### Variables are containers for storing data values."
   ]
  },
  {
   "cell_type": "markdown",
   "id": "ed35da6c",
   "metadata": {},
   "source": [
    "# Creating Variables in Python"
   ]
  },
  {
   "cell_type": "code",
   "execution_count": 1,
   "id": "a7eca84f",
   "metadata": {},
   "outputs": [
    {
     "name": "stdout",
     "output_type": "stream",
     "text": [
      "100\n",
      "marin\n"
     ]
    }
   ],
   "source": [
    "x = 100\n",
    "y = \"marin\"\n",
    "print(x)\n",
    "print(y)"
   ]
  },
  {
   "cell_type": "markdown",
   "id": "256cfdc2",
   "metadata": {},
   "source": [
    "# Rules For Variable name"
   ]
  },
  {
   "cell_type": "markdown",
   "id": "b8c0d0e2",
   "metadata": {},
   "source": [
    "#### Variable name should always start from [A-Z] or [a-z] or_ otherwise it gives error"
   ]
  },
  {
   "cell_type": "code",
   "execution_count": 3,
   "id": "5aa1a010",
   "metadata": {},
   "outputs": [
    {
     "name": "stdout",
     "output_type": "stream",
     "text": [
      "15\n",
      "45.5\n",
      "one\n",
      "10\n"
     ]
    }
   ],
   "source": [
    "Variable = 15\n",
    "name2=45.5\n",
    "ONE = \"one\"\n",
    "_integer = 10\n",
    "\n",
    "print(Variable)\n",
    "print(name2)\n",
    "print(ONE)\n",
    "print(_integer)"
   ]
  },
  {
   "cell_type": "code",
   "execution_count": 7,
   "id": "bc55a549",
   "metadata": {},
   "outputs": [
    {
     "ename": "SyntaxError",
     "evalue": "invalid syntax (2972237302.py, line 1)",
     "output_type": "error",
     "traceback": [
      "\u001b[1;36m  Input \u001b[1;32mIn [7]\u001b[1;36m\u001b[0m\n\u001b[1;33m    2Variable = 15\u001b[0m\n\u001b[1;37m     ^\u001b[0m\n\u001b[1;31mSyntaxError\u001b[0m\u001b[1;31m:\u001b[0m invalid syntax\n"
     ]
    }
   ],
   "source": [
    "2Variable = 15\n",
    "\n",
    "print(2Variable)\n"
   ]
  },
  {
   "cell_type": "markdown",
   "id": "899bbff2",
   "metadata": {},
   "source": [
    "#### variable name contain only [a-z], [A-Z], [ _ ] and not !@$%^&*()_+"
   ]
  },
  {
   "cell_type": "code",
   "execution_count": 8,
   "id": "c1d319b8",
   "metadata": {},
   "outputs": [
    {
     "ename": "SyntaxError",
     "evalue": "invalid syntax (2001539893.py, line 1)",
     "output_type": "error",
     "traceback": [
      "\u001b[1;36m  Input \u001b[1;32mIn [8]\u001b[1;36m\u001b[0m\n\u001b[1;33m    variable@ = 46\u001b[0m\n\u001b[1;37m              ^\u001b[0m\n\u001b[1;31mSyntaxError\u001b[0m\u001b[1;31m:\u001b[0m invalid syntax\n"
     ]
    }
   ],
   "source": [
    "variable@ = 46\n",
    "print(variable@)"
   ]
  },
  {
   "cell_type": "markdown",
   "id": "51157a8e",
   "metadata": {},
   "source": [
    "#### Python is Case-Sensitive so as Variables also"
   ]
  },
  {
   "cell_type": "code",
   "execution_count": 9,
   "id": "d5b14317",
   "metadata": {},
   "outputs": [
    {
     "name": "stdout",
     "output_type": "stream",
     "text": [
      "1 One 1\n"
     ]
    }
   ],
   "source": [
    "one = 1\n",
    "One = \"One\"\n",
    "ONE = \"1\"\n",
    "print(one, One, ONE)"
   ]
  }
 ],
 "metadata": {
  "kernelspec": {
   "display_name": "Python 3 (ipykernel)",
   "language": "python",
   "name": "python3"
  },
  "language_info": {
   "codemirror_mode": {
    "name": "ipython",
    "version": 3
   },
   "file_extension": ".py",
   "mimetype": "text/x-python",
   "name": "python",
   "nbconvert_exporter": "python",
   "pygments_lexer": "ipython3",
   "version": "3.9.12"
  }
 },
 "nbformat": 4,
 "nbformat_minor": 5
}
